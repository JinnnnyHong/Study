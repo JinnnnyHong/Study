{
  "nbformat": 4,
  "nbformat_minor": 0,
  "metadata": {
    "colab": {
      "provenance": [],
      "authorship_tag": "ABX9TyOEQjSPH9VW8jzca4FoHlwO",
      "include_colab_link": true
    },
    "kernelspec": {
      "name": "python3",
      "display_name": "Python 3"
    },
    "language_info": {
      "name": "python"
    }
  },
  "cells": [
    {
      "cell_type": "markdown",
      "metadata": {
        "id": "view-in-github",
        "colab_type": "text"
      },
      "source": [
        "<a href=\"https://colab.research.google.com/github/JinnnnyHong/Study/blob/main/%EC%8B%A4%EC%8A%B5_2.ipynb\" target=\"_parent\"><img src=\"https://colab.research.google.com/assets/colab-badge.svg\" alt=\"Open In Colab\"/></a>"
      ]
    },
    {
      "cell_type": "code",
      "execution_count": null,
      "metadata": {
        "colab": {
          "base_uri": "https://localhost:8080/",
          "height": 357
        },
        "id": "aEYRBb_oBFoo",
        "outputId": "2be47b03-8cad-473f-fd1f-cfcd6b135cbe"
      },
      "outputs": [
        {
          "output_type": "execute_result",
          "data": {
            "text/plain": [
              "   age  workclass  fnlwgt     education  education_num      marital_status  \\\n",
              "0   25    Private  226802          11th              7       Never-married   \n",
              "1   38    Private   89814       HS-grad              9  Married-civ-spouse   \n",
              "2   28  Local-gov  336951    Assoc-acdm             12  Married-civ-spouse   \n",
              "3   44    Private  160323  Some-college             10  Married-civ-spouse   \n",
              "4   18          ?  103497  Some-college             10       Never-married   \n",
              "\n",
              "          occupation relationship   race     sex  capital_gain  capital_loss  \\\n",
              "0  Machine-op-inspct    Own-child  Black    Male             0             0   \n",
              "1    Farming-fishing      Husband  White    Male             0             0   \n",
              "2    Protective-serv      Husband  White    Male             0             0   \n",
              "3  Machine-op-inspct      Husband  Black    Male          7688             0   \n",
              "4                  ?    Own-child  White  Female             0             0   \n",
              "\n",
              "   hours_per_week native_country income  \n",
              "0              40  United-States  <=50K  \n",
              "1              50  United-States  <=50K  \n",
              "2              40  United-States   >50K  \n",
              "3              40  United-States   >50K  \n",
              "4              30  United-States  <=50K  "
            ],
            "text/html": [
              "\n",
              "  <div id=\"df-5771ceb4-c4a8-4242-b45e-abd3a6338d78\">\n",
              "    <div class=\"colab-df-container\">\n",
              "      <div>\n",
              "<style scoped>\n",
              "    .dataframe tbody tr th:only-of-type {\n",
              "        vertical-align: middle;\n",
              "    }\n",
              "\n",
              "    .dataframe tbody tr th {\n",
              "        vertical-align: top;\n",
              "    }\n",
              "\n",
              "    .dataframe thead th {\n",
              "        text-align: right;\n",
              "    }\n",
              "</style>\n",
              "<table border=\"1\" class=\"dataframe\">\n",
              "  <thead>\n",
              "    <tr style=\"text-align: right;\">\n",
              "      <th></th>\n",
              "      <th>age</th>\n",
              "      <th>workclass</th>\n",
              "      <th>fnlwgt</th>\n",
              "      <th>education</th>\n",
              "      <th>education_num</th>\n",
              "      <th>marital_status</th>\n",
              "      <th>occupation</th>\n",
              "      <th>relationship</th>\n",
              "      <th>race</th>\n",
              "      <th>sex</th>\n",
              "      <th>capital_gain</th>\n",
              "      <th>capital_loss</th>\n",
              "      <th>hours_per_week</th>\n",
              "      <th>native_country</th>\n",
              "      <th>income</th>\n",
              "    </tr>\n",
              "  </thead>\n",
              "  <tbody>\n",
              "    <tr>\n",
              "      <th>0</th>\n",
              "      <td>25</td>\n",
              "      <td>Private</td>\n",
              "      <td>226802</td>\n",
              "      <td>11th</td>\n",
              "      <td>7</td>\n",
              "      <td>Never-married</td>\n",
              "      <td>Machine-op-inspct</td>\n",
              "      <td>Own-child</td>\n",
              "      <td>Black</td>\n",
              "      <td>Male</td>\n",
              "      <td>0</td>\n",
              "      <td>0</td>\n",
              "      <td>40</td>\n",
              "      <td>United-States</td>\n",
              "      <td>&lt;=50K</td>\n",
              "    </tr>\n",
              "    <tr>\n",
              "      <th>1</th>\n",
              "      <td>38</td>\n",
              "      <td>Private</td>\n",
              "      <td>89814</td>\n",
              "      <td>HS-grad</td>\n",
              "      <td>9</td>\n",
              "      <td>Married-civ-spouse</td>\n",
              "      <td>Farming-fishing</td>\n",
              "      <td>Husband</td>\n",
              "      <td>White</td>\n",
              "      <td>Male</td>\n",
              "      <td>0</td>\n",
              "      <td>0</td>\n",
              "      <td>50</td>\n",
              "      <td>United-States</td>\n",
              "      <td>&lt;=50K</td>\n",
              "    </tr>\n",
              "    <tr>\n",
              "      <th>2</th>\n",
              "      <td>28</td>\n",
              "      <td>Local-gov</td>\n",
              "      <td>336951</td>\n",
              "      <td>Assoc-acdm</td>\n",
              "      <td>12</td>\n",
              "      <td>Married-civ-spouse</td>\n",
              "      <td>Protective-serv</td>\n",
              "      <td>Husband</td>\n",
              "      <td>White</td>\n",
              "      <td>Male</td>\n",
              "      <td>0</td>\n",
              "      <td>0</td>\n",
              "      <td>40</td>\n",
              "      <td>United-States</td>\n",
              "      <td>&gt;50K</td>\n",
              "    </tr>\n",
              "    <tr>\n",
              "      <th>3</th>\n",
              "      <td>44</td>\n",
              "      <td>Private</td>\n",
              "      <td>160323</td>\n",
              "      <td>Some-college</td>\n",
              "      <td>10</td>\n",
              "      <td>Married-civ-spouse</td>\n",
              "      <td>Machine-op-inspct</td>\n",
              "      <td>Husband</td>\n",
              "      <td>Black</td>\n",
              "      <td>Male</td>\n",
              "      <td>7688</td>\n",
              "      <td>0</td>\n",
              "      <td>40</td>\n",
              "      <td>United-States</td>\n",
              "      <td>&gt;50K</td>\n",
              "    </tr>\n",
              "    <tr>\n",
              "      <th>4</th>\n",
              "      <td>18</td>\n",
              "      <td>?</td>\n",
              "      <td>103497</td>\n",
              "      <td>Some-college</td>\n",
              "      <td>10</td>\n",
              "      <td>Never-married</td>\n",
              "      <td>?</td>\n",
              "      <td>Own-child</td>\n",
              "      <td>White</td>\n",
              "      <td>Female</td>\n",
              "      <td>0</td>\n",
              "      <td>0</td>\n",
              "      <td>30</td>\n",
              "      <td>United-States</td>\n",
              "      <td>&lt;=50K</td>\n",
              "    </tr>\n",
              "  </tbody>\n",
              "</table>\n",
              "</div>\n",
              "      <button class=\"colab-df-convert\" onclick=\"convertToInteractive('df-5771ceb4-c4a8-4242-b45e-abd3a6338d78')\"\n",
              "              title=\"Convert this dataframe to an interactive table.\"\n",
              "              style=\"display:none;\">\n",
              "        \n",
              "  <svg xmlns=\"http://www.w3.org/2000/svg\" height=\"24px\"viewBox=\"0 0 24 24\"\n",
              "       width=\"24px\">\n",
              "    <path d=\"M0 0h24v24H0V0z\" fill=\"none\"/>\n",
              "    <path d=\"M18.56 5.44l.94 2.06.94-2.06 2.06-.94-2.06-.94-.94-2.06-.94 2.06-2.06.94zm-11 1L8.5 8.5l.94-2.06 2.06-.94-2.06-.94L8.5 2.5l-.94 2.06-2.06.94zm10 10l.94 2.06.94-2.06 2.06-.94-2.06-.94-.94-2.06-.94 2.06-2.06.94z\"/><path d=\"M17.41 7.96l-1.37-1.37c-.4-.4-.92-.59-1.43-.59-.52 0-1.04.2-1.43.59L10.3 9.45l-7.72 7.72c-.78.78-.78 2.05 0 2.83L4 21.41c.39.39.9.59 1.41.59.51 0 1.02-.2 1.41-.59l7.78-7.78 2.81-2.81c.8-.78.8-2.07 0-2.86zM5.41 20L4 18.59l7.72-7.72 1.47 1.35L5.41 20z\"/>\n",
              "  </svg>\n",
              "      </button>\n",
              "      \n",
              "  <style>\n",
              "    .colab-df-container {\n",
              "      display:flex;\n",
              "      flex-wrap:wrap;\n",
              "      gap: 12px;\n",
              "    }\n",
              "\n",
              "    .colab-df-convert {\n",
              "      background-color: #E8F0FE;\n",
              "      border: none;\n",
              "      border-radius: 50%;\n",
              "      cursor: pointer;\n",
              "      display: none;\n",
              "      fill: #1967D2;\n",
              "      height: 32px;\n",
              "      padding: 0 0 0 0;\n",
              "      width: 32px;\n",
              "    }\n",
              "\n",
              "    .colab-df-convert:hover {\n",
              "      background-color: #E2EBFA;\n",
              "      box-shadow: 0px 1px 2px rgba(60, 64, 67, 0.3), 0px 1px 3px 1px rgba(60, 64, 67, 0.15);\n",
              "      fill: #174EA6;\n",
              "    }\n",
              "\n",
              "    [theme=dark] .colab-df-convert {\n",
              "      background-color: #3B4455;\n",
              "      fill: #D2E3FC;\n",
              "    }\n",
              "\n",
              "    [theme=dark] .colab-df-convert:hover {\n",
              "      background-color: #434B5C;\n",
              "      box-shadow: 0px 1px 3px 1px rgba(0, 0, 0, 0.15);\n",
              "      filter: drop-shadow(0px 1px 2px rgba(0, 0, 0, 0.3));\n",
              "      fill: #FFFFFF;\n",
              "    }\n",
              "  </style>\n",
              "\n",
              "      <script>\n",
              "        const buttonEl =\n",
              "          document.querySelector('#df-5771ceb4-c4a8-4242-b45e-abd3a6338d78 button.colab-df-convert');\n",
              "        buttonEl.style.display =\n",
              "          google.colab.kernel.accessAllowed ? 'block' : 'none';\n",
              "\n",
              "        async function convertToInteractive(key) {\n",
              "          const element = document.querySelector('#df-5771ceb4-c4a8-4242-b45e-abd3a6338d78');\n",
              "          const dataTable =\n",
              "            await google.colab.kernel.invokeFunction('convertToInteractive',\n",
              "                                                     [key], {});\n",
              "          if (!dataTable) return;\n",
              "\n",
              "          const docLinkHtml = 'Like what you see? Visit the ' +\n",
              "            '<a target=\"_blank\" href=https://colab.research.google.com/notebooks/data_table.ipynb>data table notebook</a>'\n",
              "            + ' to learn more about interactive tables.';\n",
              "          element.innerHTML = '';\n",
              "          dataTable['output_type'] = 'display_data';\n",
              "          await google.colab.output.renderOutput(dataTable, element);\n",
              "          const docLink = document.createElement('div');\n",
              "          docLink.innerHTML = docLinkHtml;\n",
              "          element.appendChild(docLink);\n",
              "        }\n",
              "      </script>\n",
              "    </div>\n",
              "  </div>\n",
              "  "
            ]
          },
          "metadata": {},
          "execution_count": 10
        }
      ],
      "source": [
        "import pandas as pd\n",
        "df = pd.read_csv('adult.csv')\n",
        "df.head()"
      ]
    },
    {
      "cell_type": "code",
      "source": [
        "#타겟 변수 전처리\n",
        "df['income'].value_counts(normalize = True)"
      ],
      "metadata": {
        "colab": {
          "base_uri": "https://localhost:8080/"
        },
        "id": "t2K4jq3pBcoI",
        "outputId": "b56f3514-dae5-4c26-eb7d-130674514f3d"
      },
      "execution_count": null,
      "outputs": [
        {
          "output_type": "execute_result",
          "data": {
            "text/plain": [
              "<=50K    0.760718\n",
              ">50K     0.239282\n",
              "Name: income, dtype: float64"
            ]
          },
          "metadata": {},
          "execution_count": 11
        }
      ]
    },
    {
      "cell_type": "code",
      "source": [
        "import numpy as np\n",
        "df['income'] = np.where(df['income'] == '>50K','high', 'low')\n",
        "df['income'].value_counts(normalize = True)"
      ],
      "metadata": {
        "colab": {
          "base_uri": "https://localhost:8080/"
        },
        "id": "Ovz-SFqqCTi0",
        "outputId": "b63bdec9-02bd-4364-8459-a22c3b38160c"
      },
      "execution_count": null,
      "outputs": [
        {
          "output_type": "execute_result",
          "data": {
            "text/plain": [
              "low     0.760718\n",
              "high    0.239282\n",
              "Name: income, dtype: float64"
            ]
          },
          "metadata": {},
          "execution_count": 12
        }
      ]
    },
    {
      "cell_type": "code",
      "source": [
        "#불필요한 변수 제거하기\n",
        "df = df.drop(columns = 'fnlwgt')"
      ],
      "metadata": {
        "id": "1EQt5dHVCsCH"
      },
      "execution_count": null,
      "outputs": []
    },
    {
      "cell_type": "code",
      "source": [
        "#문자타입 변수를 숫자 타입으로 바꾸기\n",
        "df_tmp = df[['sex']]\n",
        "df_tmp.info()"
      ],
      "metadata": {
        "colab": {
          "base_uri": "https://localhost:8080/"
        },
        "id": "RDdCXU4yDT3q",
        "outputId": "a03c5ebd-33af-41b0-a45b-eaac6e530d6d"
      },
      "execution_count": null,
      "outputs": [
        {
          "output_type": "stream",
          "name": "stdout",
          "text": [
            "<class 'pandas.core.frame.DataFrame'>\n",
            "RangeIndex: 48842 entries, 0 to 48841\n",
            "Data columns (total 1 columns):\n",
            " #   Column  Non-Null Count  Dtype \n",
            "---  ------  --------------  ----- \n",
            " 0   sex     48842 non-null  object\n",
            "dtypes: object(1)\n",
            "memory usage: 381.7+ KB\n"
          ]
        }
      ]
    },
    {
      "cell_type": "code",
      "source": [
        "df_tmp['sex'].value_counts()"
      ],
      "metadata": {
        "colab": {
          "base_uri": "https://localhost:8080/"
        },
        "id": "IYSCswYnDbbL",
        "outputId": "761534be-e286-4bc8-8b35-4c610e81a444"
      },
      "execution_count": null,
      "outputs": [
        {
          "output_type": "execute_result",
          "data": {
            "text/plain": [
              "Male      32650\n",
              "Female    16192\n",
              "Name: sex, dtype: int64"
            ]
          },
          "metadata": {},
          "execution_count": 15
        }
      ]
    },
    {
      "cell_type": "code",
      "source": [
        "#df_tmp 의 문자 타입 변수에 원핫 인코딩 적용 -> 숫자타입으로 바뀜\n",
        "df_tmp = pd.get_dummies(df_tmp)\n",
        "df_tmp.info()"
      ],
      "metadata": {
        "colab": {
          "base_uri": "https://localhost:8080/"
        },
        "id": "aDhVgzofDkqG",
        "outputId": "f4d393b4-0b36-41a6-eb12-cbd0e34c05a2"
      },
      "execution_count": null,
      "outputs": [
        {
          "output_type": "stream",
          "name": "stdout",
          "text": [
            "<class 'pandas.core.frame.DataFrame'>\n",
            "RangeIndex: 48842 entries, 0 to 48841\n",
            "Data columns (total 2 columns):\n",
            " #   Column      Non-Null Count  Dtype\n",
            "---  ------      --------------  -----\n",
            " 0   sex_Female  48842 non-null  uint8\n",
            " 1   sex_Male    48842 non-null  uint8\n",
            "dtypes: uint8(2)\n",
            "memory usage: 95.5 KB\n"
          ]
        }
      ]
    },
    {
      "cell_type": "code",
      "source": [
        "df_tmp[['sex_Female', 'sex_Male']].head()"
      ],
      "metadata": {
        "colab": {
          "base_uri": "https://localhost:8080/",
          "height": 206
        },
        "id": "QmA5477jDuUV",
        "outputId": "024ea48b-0047-42f8-bbf5-8cd037771d7d"
      },
      "execution_count": null,
      "outputs": [
        {
          "output_type": "execute_result",
          "data": {
            "text/plain": [
              "   sex_Female  sex_Male\n",
              "0           0         1\n",
              "1           0         1\n",
              "2           0         1\n",
              "3           0         1\n",
              "4           1         0"
            ],
            "text/html": [
              "\n",
              "  <div id=\"df-c1472014-a364-42c7-8af0-f4910eaa87fd\">\n",
              "    <div class=\"colab-df-container\">\n",
              "      <div>\n",
              "<style scoped>\n",
              "    .dataframe tbody tr th:only-of-type {\n",
              "        vertical-align: middle;\n",
              "    }\n",
              "\n",
              "    .dataframe tbody tr th {\n",
              "        vertical-align: top;\n",
              "    }\n",
              "\n",
              "    .dataframe thead th {\n",
              "        text-align: right;\n",
              "    }\n",
              "</style>\n",
              "<table border=\"1\" class=\"dataframe\">\n",
              "  <thead>\n",
              "    <tr style=\"text-align: right;\">\n",
              "      <th></th>\n",
              "      <th>sex_Female</th>\n",
              "      <th>sex_Male</th>\n",
              "    </tr>\n",
              "  </thead>\n",
              "  <tbody>\n",
              "    <tr>\n",
              "      <th>0</th>\n",
              "      <td>0</td>\n",
              "      <td>1</td>\n",
              "    </tr>\n",
              "    <tr>\n",
              "      <th>1</th>\n",
              "      <td>0</td>\n",
              "      <td>1</td>\n",
              "    </tr>\n",
              "    <tr>\n",
              "      <th>2</th>\n",
              "      <td>0</td>\n",
              "      <td>1</td>\n",
              "    </tr>\n",
              "    <tr>\n",
              "      <th>3</th>\n",
              "      <td>0</td>\n",
              "      <td>1</td>\n",
              "    </tr>\n",
              "    <tr>\n",
              "      <th>4</th>\n",
              "      <td>1</td>\n",
              "      <td>0</td>\n",
              "    </tr>\n",
              "  </tbody>\n",
              "</table>\n",
              "</div>\n",
              "      <button class=\"colab-df-convert\" onclick=\"convertToInteractive('df-c1472014-a364-42c7-8af0-f4910eaa87fd')\"\n",
              "              title=\"Convert this dataframe to an interactive table.\"\n",
              "              style=\"display:none;\">\n",
              "        \n",
              "  <svg xmlns=\"http://www.w3.org/2000/svg\" height=\"24px\"viewBox=\"0 0 24 24\"\n",
              "       width=\"24px\">\n",
              "    <path d=\"M0 0h24v24H0V0z\" fill=\"none\"/>\n",
              "    <path d=\"M18.56 5.44l.94 2.06.94-2.06 2.06-.94-2.06-.94-.94-2.06-.94 2.06-2.06.94zm-11 1L8.5 8.5l.94-2.06 2.06-.94-2.06-.94L8.5 2.5l-.94 2.06-2.06.94zm10 10l.94 2.06.94-2.06 2.06-.94-2.06-.94-.94-2.06-.94 2.06-2.06.94z\"/><path d=\"M17.41 7.96l-1.37-1.37c-.4-.4-.92-.59-1.43-.59-.52 0-1.04.2-1.43.59L10.3 9.45l-7.72 7.72c-.78.78-.78 2.05 0 2.83L4 21.41c.39.39.9.59 1.41.59.51 0 1.02-.2 1.41-.59l7.78-7.78 2.81-2.81c.8-.78.8-2.07 0-2.86zM5.41 20L4 18.59l7.72-7.72 1.47 1.35L5.41 20z\"/>\n",
              "  </svg>\n",
              "      </button>\n",
              "      \n",
              "  <style>\n",
              "    .colab-df-container {\n",
              "      display:flex;\n",
              "      flex-wrap:wrap;\n",
              "      gap: 12px;\n",
              "    }\n",
              "\n",
              "    .colab-df-convert {\n",
              "      background-color: #E8F0FE;\n",
              "      border: none;\n",
              "      border-radius: 50%;\n",
              "      cursor: pointer;\n",
              "      display: none;\n",
              "      fill: #1967D2;\n",
              "      height: 32px;\n",
              "      padding: 0 0 0 0;\n",
              "      width: 32px;\n",
              "    }\n",
              "\n",
              "    .colab-df-convert:hover {\n",
              "      background-color: #E2EBFA;\n",
              "      box-shadow: 0px 1px 2px rgba(60, 64, 67, 0.3), 0px 1px 3px 1px rgba(60, 64, 67, 0.15);\n",
              "      fill: #174EA6;\n",
              "    }\n",
              "\n",
              "    [theme=dark] .colab-df-convert {\n",
              "      background-color: #3B4455;\n",
              "      fill: #D2E3FC;\n",
              "    }\n",
              "\n",
              "    [theme=dark] .colab-df-convert:hover {\n",
              "      background-color: #434B5C;\n",
              "      box-shadow: 0px 1px 3px 1px rgba(0, 0, 0, 0.15);\n",
              "      filter: drop-shadow(0px 1px 2px rgba(0, 0, 0, 0.3));\n",
              "      fill: #FFFFFF;\n",
              "    }\n",
              "  </style>\n",
              "\n",
              "      <script>\n",
              "        const buttonEl =\n",
              "          document.querySelector('#df-c1472014-a364-42c7-8af0-f4910eaa87fd button.colab-df-convert');\n",
              "        buttonEl.style.display =\n",
              "          google.colab.kernel.accessAllowed ? 'block' : 'none';\n",
              "\n",
              "        async function convertToInteractive(key) {\n",
              "          const element = document.querySelector('#df-c1472014-a364-42c7-8af0-f4910eaa87fd');\n",
              "          const dataTable =\n",
              "            await google.colab.kernel.invokeFunction('convertToInteractive',\n",
              "                                                     [key], {});\n",
              "          if (!dataTable) return;\n",
              "\n",
              "          const docLinkHtml = 'Like what you see? Visit the ' +\n",
              "            '<a target=\"_blank\" href=https://colab.research.google.com/notebooks/data_table.ipynb>data table notebook</a>'\n",
              "            + ' to learn more about interactive tables.';\n",
              "          element.innerHTML = '';\n",
              "          dataTable['output_type'] = 'display_data';\n",
              "          await google.colab.output.renderOutput(dataTable, element);\n",
              "          const docLink = document.createElement('div');\n",
              "          docLink.innerHTML = docLinkHtml;\n",
              "          element.appendChild(docLink);\n",
              "        }\n",
              "      </script>\n",
              "    </div>\n",
              "  </div>\n",
              "  "
            ]
          },
          "metadata": {},
          "execution_count": 18
        }
      ]
    },
    {
      "cell_type": "code",
      "source": [
        "target = df['income']\n",
        "df = df.drop(columns = 'income') #income제거\n",
        "df = pd.get_dummies(df)   #문자 타입 변수 원핫 인코딩\n",
        "\n",
        "df['income'] = target\n",
        "df.info()"
      ],
      "metadata": {
        "colab": {
          "base_uri": "https://localhost:8080/"
        },
        "id": "qSYmjBctD9Mh",
        "outputId": "5e31d134-d89b-4233-9b1a-d642b3d57abc"
      },
      "execution_count": null,
      "outputs": [
        {
          "output_type": "stream",
          "name": "stdout",
          "text": [
            "<class 'pandas.core.frame.DataFrame'>\n",
            "RangeIndex: 48842 entries, 0 to 48841\n",
            "Columns: 108 entries, age to income\n",
            "dtypes: int64(5), object(1), uint8(102)\n",
            "memory usage: 7.0+ MB\n"
          ]
        }
      ]
    },
    {
      "cell_type": "code",
      "source": [
        "df.info(max_cols = np.inf)"
      ],
      "metadata": {
        "colab": {
          "base_uri": "https://localhost:8080/"
        },
        "id": "-vUGDTAxEQiF",
        "outputId": "1f48a22f-6792-451d-f627-6c650a7e79e7"
      },
      "execution_count": null,
      "outputs": [
        {
          "output_type": "stream",
          "name": "stdout",
          "text": [
            "<class 'pandas.core.frame.DataFrame'>\n",
            "RangeIndex: 48842 entries, 0 to 48841\n",
            "Data columns (total 108 columns):\n",
            " #    Column                                     Non-Null Count  Dtype \n",
            "---   ------                                     --------------  ----- \n",
            " 0    age                                        48842 non-null  int64 \n",
            " 1    education_num                              48842 non-null  int64 \n",
            " 2    capital_gain                               48842 non-null  int64 \n",
            " 3    capital_loss                               48842 non-null  int64 \n",
            " 4    hours_per_week                             48842 non-null  int64 \n",
            " 5    workclass_?                                48842 non-null  uint8 \n",
            " 6    workclass_Federal-gov                      48842 non-null  uint8 \n",
            " 7    workclass_Local-gov                        48842 non-null  uint8 \n",
            " 8    workclass_Never-worked                     48842 non-null  uint8 \n",
            " 9    workclass_Private                          48842 non-null  uint8 \n",
            " 10   workclass_Self-emp-inc                     48842 non-null  uint8 \n",
            " 11   workclass_Self-emp-not-inc                 48842 non-null  uint8 \n",
            " 12   workclass_State-gov                        48842 non-null  uint8 \n",
            " 13   workclass_Without-pay                      48842 non-null  uint8 \n",
            " 14   education_10th                             48842 non-null  uint8 \n",
            " 15   education_11th                             48842 non-null  uint8 \n",
            " 16   education_12th                             48842 non-null  uint8 \n",
            " 17   education_1st-4th                          48842 non-null  uint8 \n",
            " 18   education_5th-6th                          48842 non-null  uint8 \n",
            " 19   education_7th-8th                          48842 non-null  uint8 \n",
            " 20   education_9th                              48842 non-null  uint8 \n",
            " 21   education_Assoc-acdm                       48842 non-null  uint8 \n",
            " 22   education_Assoc-voc                        48842 non-null  uint8 \n",
            " 23   education_Bachelors                        48842 non-null  uint8 \n",
            " 24   education_Doctorate                        48842 non-null  uint8 \n",
            " 25   education_HS-grad                          48842 non-null  uint8 \n",
            " 26   education_Masters                          48842 non-null  uint8 \n",
            " 27   education_Preschool                        48842 non-null  uint8 \n",
            " 28   education_Prof-school                      48842 non-null  uint8 \n",
            " 29   education_Some-college                     48842 non-null  uint8 \n",
            " 30   marital_status_Divorced                    48842 non-null  uint8 \n",
            " 31   marital_status_Married-AF-spouse           48842 non-null  uint8 \n",
            " 32   marital_status_Married-civ-spouse          48842 non-null  uint8 \n",
            " 33   marital_status_Married-spouse-absent       48842 non-null  uint8 \n",
            " 34   marital_status_Never-married               48842 non-null  uint8 \n",
            " 35   marital_status_Separated                   48842 non-null  uint8 \n",
            " 36   marital_status_Widowed                     48842 non-null  uint8 \n",
            " 37   occupation_?                               48842 non-null  uint8 \n",
            " 38   occupation_Adm-clerical                    48842 non-null  uint8 \n",
            " 39   occupation_Armed-Forces                    48842 non-null  uint8 \n",
            " 40   occupation_Craft-repair                    48842 non-null  uint8 \n",
            " 41   occupation_Exec-managerial                 48842 non-null  uint8 \n",
            " 42   occupation_Farming-fishing                 48842 non-null  uint8 \n",
            " 43   occupation_Handlers-cleaners               48842 non-null  uint8 \n",
            " 44   occupation_Machine-op-inspct               48842 non-null  uint8 \n",
            " 45   occupation_Other-service                   48842 non-null  uint8 \n",
            " 46   occupation_Priv-house-serv                 48842 non-null  uint8 \n",
            " 47   occupation_Prof-specialty                  48842 non-null  uint8 \n",
            " 48   occupation_Protective-serv                 48842 non-null  uint8 \n",
            " 49   occupation_Sales                           48842 non-null  uint8 \n",
            " 50   occupation_Tech-support                    48842 non-null  uint8 \n",
            " 51   occupation_Transport-moving                48842 non-null  uint8 \n",
            " 52   relationship_Husband                       48842 non-null  uint8 \n",
            " 53   relationship_Not-in-family                 48842 non-null  uint8 \n",
            " 54   relationship_Other-relative                48842 non-null  uint8 \n",
            " 55   relationship_Own-child                     48842 non-null  uint8 \n",
            " 56   relationship_Unmarried                     48842 non-null  uint8 \n",
            " 57   relationship_Wife                          48842 non-null  uint8 \n",
            " 58   race_Amer-Indian-Eskimo                    48842 non-null  uint8 \n",
            " 59   race_Asian-Pac-Islander                    48842 non-null  uint8 \n",
            " 60   race_Black                                 48842 non-null  uint8 \n",
            " 61   race_Other                                 48842 non-null  uint8 \n",
            " 62   race_White                                 48842 non-null  uint8 \n",
            " 63   sex_Female                                 48842 non-null  uint8 \n",
            " 64   sex_Male                                   48842 non-null  uint8 \n",
            " 65   native_country_?                           48842 non-null  uint8 \n",
            " 66   native_country_Cambodia                    48842 non-null  uint8 \n",
            " 67   native_country_Canada                      48842 non-null  uint8 \n",
            " 68   native_country_China                       48842 non-null  uint8 \n",
            " 69   native_country_Columbia                    48842 non-null  uint8 \n",
            " 70   native_country_Cuba                        48842 non-null  uint8 \n",
            " 71   native_country_Dominican-Republic          48842 non-null  uint8 \n",
            " 72   native_country_Ecuador                     48842 non-null  uint8 \n",
            " 73   native_country_El-Salvador                 48842 non-null  uint8 \n",
            " 74   native_country_England                     48842 non-null  uint8 \n",
            " 75   native_country_France                      48842 non-null  uint8 \n",
            " 76   native_country_Germany                     48842 non-null  uint8 \n",
            " 77   native_country_Greece                      48842 non-null  uint8 \n",
            " 78   native_country_Guatemala                   48842 non-null  uint8 \n",
            " 79   native_country_Haiti                       48842 non-null  uint8 \n",
            " 80   native_country_Holand-Netherlands          48842 non-null  uint8 \n",
            " 81   native_country_Honduras                    48842 non-null  uint8 \n",
            " 82   native_country_Hong                        48842 non-null  uint8 \n",
            " 83   native_country_Hungary                     48842 non-null  uint8 \n",
            " 84   native_country_India                       48842 non-null  uint8 \n",
            " 85   native_country_Iran                        48842 non-null  uint8 \n",
            " 86   native_country_Ireland                     48842 non-null  uint8 \n",
            " 87   native_country_Italy                       48842 non-null  uint8 \n",
            " 88   native_country_Jamaica                     48842 non-null  uint8 \n",
            " 89   native_country_Japan                       48842 non-null  uint8 \n",
            " 90   native_country_Laos                        48842 non-null  uint8 \n",
            " 91   native_country_Mexico                      48842 non-null  uint8 \n",
            " 92   native_country_Nicaragua                   48842 non-null  uint8 \n",
            " 93   native_country_Outlying-US(Guam-USVI-etc)  48842 non-null  uint8 \n",
            " 94   native_country_Peru                        48842 non-null  uint8 \n",
            " 95   native_country_Philippines                 48842 non-null  uint8 \n",
            " 96   native_country_Poland                      48842 non-null  uint8 \n",
            " 97   native_country_Portugal                    48842 non-null  uint8 \n",
            " 98   native_country_Puerto-Rico                 48842 non-null  uint8 \n",
            " 99   native_country_Scotland                    48842 non-null  uint8 \n",
            " 100  native_country_South                       48842 non-null  uint8 \n",
            " 101  native_country_Taiwan                      48842 non-null  uint8 \n",
            " 102  native_country_Thailand                    48842 non-null  uint8 \n",
            " 103  native_country_Trinadad&Tobago             48842 non-null  uint8 \n",
            " 104  native_country_United-States               48842 non-null  uint8 \n",
            " 105  native_country_Vietnam                     48842 non-null  uint8 \n",
            " 106  native_country_Yugoslavia                  48842 non-null  uint8 \n",
            " 107  income                                     48842 non-null  object\n",
            "dtypes: int64(5), object(1), uint8(102)\n",
            "memory usage: 7.0+ MB\n"
          ]
        }
      ]
    },
    {
      "cell_type": "code",
      "source": [
        "from sklearn.model_selection import train_test_split\n",
        "df_train, df_test = train_test_split(df,\n",
        "                                     test_size = 0.3,  #테스트 세트 비율\n",
        "                                     stratify = df['income'], #타겟 변수 비율 유지\n",
        "                                     random_state = 1234) #난수고정"
      ],
      "metadata": {
        "id": "lphlDSuqEcvN"
      },
      "execution_count": null,
      "outputs": []
    },
    {
      "cell_type": "code",
      "source": [
        "df_train.shape"
      ],
      "metadata": {
        "colab": {
          "base_uri": "https://localhost:8080/"
        },
        "id": "zbxbKB6EFH4x",
        "outputId": "b0f6c26a-ac80-4be5-b8f6-f083bf5730f7"
      },
      "execution_count": null,
      "outputs": [
        {
          "output_type": "execute_result",
          "data": {
            "text/plain": [
              "(34189, 108)"
            ]
          },
          "metadata": {},
          "execution_count": 23
        }
      ]
    },
    {
      "cell_type": "code",
      "source": [
        "df_test.shape"
      ],
      "metadata": {
        "colab": {
          "base_uri": "https://localhost:8080/"
        },
        "id": "U7Ml3crpFMl1",
        "outputId": "f1062d2a-a58d-4c8e-9a73-958f948c3108"
      },
      "execution_count": null,
      "outputs": [
        {
          "output_type": "execute_result",
          "data": {
            "text/plain": [
              "(14653, 108)"
            ]
          },
          "metadata": {},
          "execution_count": 25
        }
      ]
    },
    {
      "cell_type": "code",
      "source": [
        "df_train['income'].value_counts(normalize = True)"
      ],
      "metadata": {
        "colab": {
          "base_uri": "https://localhost:8080/"
        },
        "id": "0c69WyHlFO0B",
        "outputId": "fe4f3a3b-5655-457a-9dd6-e56d541e6903"
      },
      "execution_count": null,
      "outputs": [
        {
          "output_type": "execute_result",
          "data": {
            "text/plain": [
              "low     0.760713\n",
              "high    0.239287\n",
              "Name: income, dtype: float64"
            ]
          },
          "metadata": {},
          "execution_count": 26
        }
      ]
    },
    {
      "cell_type": "code",
      "source": [
        "df_test['income'].value_counts(normalize = True)"
      ],
      "metadata": {
        "colab": {
          "base_uri": "https://localhost:8080/"
        },
        "id": "M0muO0sBFVFD",
        "outputId": "e321bca7-667d-4ec7-d4bc-2f2d7b54fa31"
      },
      "execution_count": null,
      "outputs": [
        {
          "output_type": "execute_result",
          "data": {
            "text/plain": [
              "low     0.760732\n",
              "high    0.239268\n",
              "Name: income, dtype: float64"
            ]
          },
          "metadata": {},
          "execution_count": 27
        }
      ]
    },
    {
      "cell_type": "code",
      "source": [
        "#의사결정나무 모델 만들기\n",
        "from sklearn import tree\n",
        "clf = tree.DecisionTreeClassifier(random_state = 1234,\n",
        "                                  max_depth = 3) #나무 깊이"
      ],
      "metadata": {
        "id": "yzpvr3oHFZJz"
      },
      "execution_count": null,
      "outputs": []
    },
    {
      "cell_type": "code",
      "source": [
        "#모델 만들기\n",
        "train_x = df_train.drop(columns = 'income') #예측 변수 추출\n",
        "train_y = df_train['income'] #타겟 변수 추출\n",
        "\n",
        "model = clf.fit(X = train_x, y = train_y)"
      ],
      "metadata": {
        "id": "DvWjvUPcFwD0"
      },
      "execution_count": null,
      "outputs": []
    },
    {
      "cell_type": "code",
      "source": [
        "#모델구조 살펴보기\n",
        "import matplotlib.pyplot as plt\n",
        "plt.rcParams.update({'figure.figsize' : [12, 8],\n",
        "                     'figure.dpi' : '100'})\n",
        "\n",
        "tree.plot_tree(model);"
      ],
      "metadata": {
        "colab": {
          "base_uri": "https://localhost:8080/",
          "height": 579
        },
        "id": "lsTx466ZGCfN",
        "outputId": "b734a530-a152-4034-d14d-d93fcd07e5ad"
      },
      "execution_count": null,
      "outputs": [
        {
          "output_type": "display_data",
          "data": {
            "text/plain": [
              "<Figure size 1200x800 with 1 Axes>"
            ],
            "image/png": "[encoded data removed]"
          },
          "metadata": {
            "needs_background": "light"
          }
        }
      ]
    },
    {
      "cell_type": "code",
      "source": [
        "tree.plot_tree(model,\n",
        "               feature_names = train_x.columns, #예측 변수명\n",
        "               class_names = ['higj', 'low'], #타겟 변수 클래스, 알파벳군\n",
        "               proportion = True, #비율 표기\n",
        "               filled = True, #색칠\n",
        "               rounded = True, #둥근테두리\n",
        "               impurity = False, #불순도 표기\n",
        "               label = 'root', #label 표시 위치\n",
        "               fontsize = 10); #글자 크기"
      ],
      "metadata": {
        "colab": {
          "base_uri": "https://localhost:8080/",
          "height": 579
        },
        "id": "3sS22Rn4Gdxk",
        "outputId": "7873eea1-ac44-4c50-ec99-4c01ecc53717"
      },
      "execution_count": null,
      "outputs": [
        {
          "output_type": "display_data",
          "data": {
            "text/plain": [
              "<Figure size 1200x800 with 1 Axes>"
            ],
            "image/png": "[encoded data removed]"
          },
          "metadata": {
            "needs_background": "light"
          }
        }
      ]
    },
    {
      "cell_type": "code",
      "source": [
        "#모델 이용해 예측하기\n",
        "test_x = df_test.drop(columns = 'income') #예측 변수 추출\n",
        "test_y = df_test['income']"
      ],
      "metadata": {
        "id": "91a7FUPEHKSk"
      },
      "execution_count": null,
      "outputs": []
    },
    {
      "cell_type": "code",
      "source": [
        "#예측값 구하기\n",
        "df_test['pred'] = model.predict(test_x)\n",
        "df_test"
      ],
      "metadata": {
        "colab": {
          "base_uri": "https://localhost:8080/",
          "height": 505
        },
        "id": "mrjHc5guHkJQ",
        "outputId": "31080e06-409d-4cd0-a8bf-915bf07a32e9"
      },
      "execution_count": null,
      "outputs": [
        {
          "output_type": "execute_result",
          "data": {
            "text/plain": [
              "       age  education_num  capital_gain  capital_loss  hours_per_week  \\\n",
              "11712   58             10             0             0              60   \n",
              "24768   39             10             0             0              40   \n",
              "26758   31              4             0             0              20   \n",
              "14295   23              9             0             0              40   \n",
              "3683    24              9             0             0              40   \n",
              "...    ...            ...           ...           ...             ...   \n",
              "11985   24             13             0             0              30   \n",
              "48445   35             13         10520             0              45   \n",
              "19639   41              9             0             0              40   \n",
              "21606   29              4             0             0              30   \n",
              "3822    31             13             0             0              40   \n",
              "\n",
              "       workclass_?  workclass_Federal-gov  workclass_Local-gov  \\\n",
              "11712            0                      0                    0   \n",
              "24768            0                      0                    0   \n",
              "26758            0                      0                    0   \n",
              "14295            0                      0                    0   \n",
              "3683             0                      0                    0   \n",
              "...            ...                    ...                  ...   \n",
              "11985            0                      0                    0   \n",
              "48445            0                      0                    0   \n",
              "19639            0                      0                    0   \n",
              "21606            0                      0                    0   \n",
              "3822             0                      0                    0   \n",
              "\n",
              "       workclass_Never-worked  workclass_Private  ...  \\\n",
              "11712                       0                  0  ...   \n",
              "24768                       0                  1  ...   \n",
              "26758                       0                  1  ...   \n",
              "14295                       0                  1  ...   \n",
              "3683                        0                  1  ...   \n",
              "...                       ...                ...  ...   \n",
              "11985                       0                  1  ...   \n",
              "48445                       0                  1  ...   \n",
              "19639                       0                  1  ...   \n",
              "21606                       0                  1  ...   \n",
              "3822                        0                  1  ...   \n",
              "\n",
              "       native_country_Scotland  native_country_South  native_country_Taiwan  \\\n",
              "11712                        0                     0                      0   \n",
              "24768                        0                     0                      0   \n",
              "26758                        0                     0                      0   \n",
              "14295                        0                     0                      0   \n",
              "3683                         0                     0                      0   \n",
              "...                        ...                   ...                    ...   \n",
              "11985                        0                     0                      0   \n",
              "48445                        0                     0                      0   \n",
              "19639                        0                     0                      0   \n",
              "21606                        0                     0                      0   \n",
              "3822                         0                     0                      0   \n",
              "\n",
              "       native_country_Thailand  native_country_Trinadad&Tobago  \\\n",
              "11712                        0                               0   \n",
              "24768                        0                               0   \n",
              "26758                        0                               0   \n",
              "14295                        0                               0   \n",
              "3683                         0                               0   \n",
              "...                        ...                             ...   \n",
              "11985                        0                               0   \n",
              "48445                        0                               0   \n",
              "19639                        0                               0   \n",
              "21606                        0                               0   \n",
              "3822                         0                               0   \n",
              "\n",
              "       native_country_United-States  native_country_Vietnam  \\\n",
              "11712                             1                       0   \n",
              "24768                             0                       0   \n",
              "26758                             1                       0   \n",
              "14295                             1                       0   \n",
              "3683                              1                       0   \n",
              "...                             ...                     ...   \n",
              "11985                             1                       0   \n",
              "48445                             1                       0   \n",
              "19639                             1                       0   \n",
              "21606                             0                       0   \n",
              "3822                              1                       0   \n",
              "\n",
              "       native_country_Yugoslavia  income  pred  \n",
              "11712                          0     low   low  \n",
              "24768                          0     low   low  \n",
              "26758                          0     low   low  \n",
              "14295                          0     low   low  \n",
              "3683                           0     low   low  \n",
              "...                          ...     ...   ...  \n",
              "11985                          0     low   low  \n",
              "48445                          0    high  high  \n",
              "19639                          0    high   low  \n",
              "21606                          0     low   low  \n",
              "3822                           0     low   low  \n",
              "\n",
              "[14653 rows x 109 columns]"
            ],
            "text/html": [
              "\n",
              "  <div id=\"df-5cfb3645-a5f8-4a67-bdcb-3faca1225a60\">\n",
              "    <div class=\"colab-df-container\">\n",
              "      <div>\n",
              "<style scoped>\n",
              "    .dataframe tbody tr th:only-of-type {\n",
              "        vertical-align: middle;\n",
              "    }\n",
              "\n",
              "    .dataframe tbody tr th {\n",
              "        vertical-align: top;\n",
              "    }\n",
              "\n",
              "    .dataframe thead th {\n",
              "        text-align: right;\n",
              "    }\n",
              "</style>\n",
              "<table border=\"1\" class=\"dataframe\">\n",
              "  <thead>\n",
              "    <tr style=\"text-align: right;\">\n",
              "      <th></th>\n",
              "      <th>age</th>\n",
              "      <th>education_num</th>\n",
              "      <th>capital_gain</th>\n",
              "      <th>capital_loss</th>\n",
              "      <th>hours_per_week</th>\n",
              "      <th>workclass_?</th>\n",
              "      <th>workclass_Federal-gov</th>\n",
              "      <th>workclass_Local-gov</th>\n",
              "      <th>workclass_Never-worked</th>\n",
              "      <th>workclass_Private</th>\n",
              "      <th>...</th>\n",
              "      <th>native_country_Scotland</th>\n",
              "      <th>native_country_South</th>\n",
              "      <th>native_country_Taiwan</th>\n",
              "      <th>native_country_Thailand</th>\n",
              "      <th>native_country_Trinadad&amp;Tobago</th>\n",
              "      <th>native_country_United-States</th>\n",
              "      <th>native_country_Vietnam</th>\n",
              "      <th>native_country_Yugoslavia</th>\n",
              "      <th>income</th>\n",
              "      <th>pred</th>\n",
              "    </tr>\n",
              "  </thead>\n",
              "  <tbody>\n",
              "    <tr>\n",
              "      <th>11712</th>\n",
              "      <td>58</td>\n",
              "      <td>10</td>\n",
              "      <td>0</td>\n",
              "      <td>0</td>\n",
              "      <td>60</td>\n",
              "      <td>0</td>\n",
              "      <td>0</td>\n",
              "      <td>0</td>\n",
              "      <td>0</td>\n",
              "      <td>0</td>\n",
              "      <td>...</td>\n",
              "      <td>0</td>\n",
              "      <td>0</td>\n",
              "      <td>0</td>\n",
              "      <td>0</td>\n",
              "      <td>0</td>\n",
              "      <td>1</td>\n",
              "      <td>0</td>\n",
              "      <td>0</td>\n",
              "      <td>low</td>\n",
              "      <td>low</td>\n",
              "    </tr>\n",
              "    <tr>\n",
              "      <th>24768</th>\n",
              "      <td>39</td>\n",
              "      <td>10</td>\n",
              "      <td>0</td>\n",
              "      <td>0</td>\n",
              "      <td>40</td>\n",
              "      <td>0</td>\n",
              "      <td>0</td>\n",
              "      <td>0</td>\n",
              "      <td>0</td>\n",
              "      <td>1</td>\n",
              "      <td>...</td>\n",
              "      <td>0</td>\n",
              "      <td>0</td>\n",
              "      <td>0</td>\n",
              "      <td>0</td>\n",
              "      <td>0</td>\n",
              "      <td>0</td>\n",
              "      <td>0</td>\n",
              "      <td>0</td>\n",
              "      <td>low</td>\n",
              "      <td>low</td>\n",
              "    </tr>\n",
              "    <tr>\n",
              "      <th>26758</th>\n",
              "      <td>31</td>\n",
              "      <td>4</td>\n",
              "      <td>0</td>\n",
              "      <td>0</td>\n",
              "      <td>20</td>\n",
              "      <td>0</td>\n",
              "      <td>0</td>\n",
              "      <td>0</td>\n",
              "      <td>0</td>\n",
              "      <td>1</td>\n",
              "      <td>...</td>\n",
              "      <td>0</td>\n",
              "      <td>0</td>\n",
              "      <td>0</td>\n",
              "      <td>0</td>\n",
              "      <td>0</td>\n",
              "      <td>1</td>\n",
              "      <td>0</td>\n",
              "      <td>0</td>\n",
              "      <td>low</td>\n",
              "      <td>low</td>\n",
              "    </tr>\n",
              "    <tr>\n",
              "      <th>14295</th>\n",
              "      <td>23</td>\n",
              "      <td>9</td>\n",
              "      <td>0</td>\n",
              "      <td>0</td>\n",
              "      <td>40</td>\n",
              "      <td>0</td>\n",
              "      <td>0</td>\n",
              "      <td>0</td>\n",
              "      <td>0</td>\n",
              "      <td>1</td>\n",
              "      <td>...</td>\n",
              "      <td>0</td>\n",
              "      <td>0</td>\n",
              "      <td>0</td>\n",
              "      <td>0</td>\n",
              "      <td>0</td>\n",
              "      <td>1</td>\n",
              "      <td>0</td>\n",
              "      <td>0</td>\n",
              "      <td>low</td>\n",
              "      <td>low</td>\n",
              "    </tr>\n",
              "    <tr>\n",
              "      <th>3683</th>\n",
              "      <td>24</td>\n",
              "      <td>9</td>\n",
              "      <td>0</td>\n",
              "      <td>0</td>\n",
              "      <td>40</td>\n",
              "      <td>0</td>\n",
              "      <td>0</td>\n",
              "      <td>0</td>\n",
              "      <td>0</td>\n",
              "      <td>1</td>\n",
              "      <td>...</td>\n",
              "      <td>0</td>\n",
              "      <td>0</td>\n",
              "      <td>0</td>\n",
              "      <td>0</td>\n",
              "      <td>0</td>\n",
              "      <td>1</td>\n",
              "      <td>0</td>\n",
              "      <td>0</td>\n",
              "      <td>low</td>\n",
              "      <td>low</td>\n",
              "    </tr>\n",
              "    <tr>\n",
              "      <th>...</th>\n",
              "      <td>...</td>\n",
              "      <td>...</td>\n",
              "      <td>...</td>\n",
              "      <td>...</td>\n",
              "      <td>...</td>\n",
              "      <td>...</td>\n",
              "      <td>...</td>\n",
              "      <td>...</td>\n",
              "      <td>...</td>\n",
              "      <td>...</td>\n",
              "      <td>...</td>\n",
              "      <td>...</td>\n",
              "      <td>...</td>\n",
              "      <td>...</td>\n",
              "      <td>...</td>\n",
              "      <td>...</td>\n",
              "      <td>...</td>\n",
              "      <td>...</td>\n",
              "      <td>...</td>\n",
              "      <td>...</td>\n",
              "      <td>...</td>\n",
              "    </tr>\n",
              "    <tr>\n",
              "      <th>11985</th>\n",
              "      <td>24</td>\n",
              "      <td>13</td>\n",
              "      <td>0</td>\n",
              "      <td>0</td>\n",
              "      <td>30</td>\n",
              "      <td>0</td>\n",
              "      <td>0</td>\n",
              "      <td>0</td>\n",
              "      <td>0</td>\n",
              "      <td>1</td>\n",
              "      <td>...</td>\n",
              "      <td>0</td>\n",
              "      <td>0</td>\n",
              "      <td>0</td>\n",
              "      <td>0</td>\n",
              "      <td>0</td>\n",
              "      <td>1</td>\n",
              "      <td>0</td>\n",
              "      <td>0</td>\n",
              "      <td>low</td>\n",
              "      <td>low</td>\n",
              "    </tr>\n",
              "    <tr>\n",
              "      <th>48445</th>\n",
              "      <td>35</td>\n",
              "      <td>13</td>\n",
              "      <td>10520</td>\n",
              "      <td>0</td>\n",
              "      <td>45</td>\n",
              "      <td>0</td>\n",
              "      <td>0</td>\n",
              "      <td>0</td>\n",
              "      <td>0</td>\n",
              "      <td>1</td>\n",
              "      <td>...</td>\n",
              "      <td>0</td>\n",
              "      <td>0</td>\n",
              "      <td>0</td>\n",
              "      <td>0</td>\n",
              "      <td>0</td>\n",
              "      <td>1</td>\n",
              "      <td>0</td>\n",
              "      <td>0</td>\n",
              "      <td>high</td>\n",
              "      <td>high</td>\n",
              "    </tr>\n",
              "    <tr>\n",
              "      <th>19639</th>\n",
              "      <td>41</td>\n",
              "      <td>9</td>\n",
              "      <td>0</td>\n",
              "      <td>0</td>\n",
              "      <td>40</td>\n",
              "      <td>0</td>\n",
              "      <td>0</td>\n",
              "      <td>0</td>\n",
              "      <td>0</td>\n",
              "      <td>1</td>\n",
              "      <td>...</td>\n",
              "      <td>0</td>\n",
              "      <td>0</td>\n",
              "      <td>0</td>\n",
              "      <td>0</td>\n",
              "      <td>0</td>\n",
              "      <td>1</td>\n",
              "      <td>0</td>\n",
              "      <td>0</td>\n",
              "      <td>high</td>\n",
              "      <td>low</td>\n",
              "    </tr>\n",
              "    <tr>\n",
              "      <th>21606</th>\n",
              "      <td>29</td>\n",
              "      <td>4</td>\n",
              "      <td>0</td>\n",
              "      <td>0</td>\n",
              "      <td>30</td>\n",
              "      <td>0</td>\n",
              "      <td>0</td>\n",
              "      <td>0</td>\n",
              "      <td>0</td>\n",
              "      <td>1</td>\n",
              "      <td>...</td>\n",
              "      <td>0</td>\n",
              "      <td>0</td>\n",
              "      <td>0</td>\n",
              "      <td>0</td>\n",
              "      <td>0</td>\n",
              "      <td>0</td>\n",
              "      <td>0</td>\n",
              "      <td>0</td>\n",
              "      <td>low</td>\n",
              "      <td>low</td>\n",
              "    </tr>\n",
              "    <tr>\n",
              "      <th>3822</th>\n",
              "      <td>31</td>\n",
              "      <td>13</td>\n",
              "      <td>0</td>\n",
              "      <td>0</td>\n",
              "      <td>40</td>\n",
              "      <td>0</td>\n",
              "      <td>0</td>\n",
              "      <td>0</td>\n",
              "      <td>0</td>\n",
              "      <td>1</td>\n",
              "      <td>...</td>\n",
              "      <td>0</td>\n",
              "      <td>0</td>\n",
              "      <td>0</td>\n",
              "      <td>0</td>\n",
              "      <td>0</td>\n",
              "      <td>1</td>\n",
              "      <td>0</td>\n",
              "      <td>0</td>\n",
              "      <td>low</td>\n",
              "      <td>low</td>\n",
              "    </tr>\n",
              "  </tbody>\n",
              "</table>\n",
              "<p>14653 rows × 109 columns</p>\n",
              "</div>\n",
              "      <button class=\"colab-df-convert\" onclick=\"convertToInteractive('df-5cfb3645-a5f8-4a67-bdcb-3faca1225a60')\"\n",
              "              title=\"Convert this dataframe to an interactive table.\"\n",
              "              style=\"display:none;\">\n",
              "        \n",
              "  <svg xmlns=\"http://www.w3.org/2000/svg\" height=\"24px\"viewBox=\"0 0 24 24\"\n",
              "       width=\"24px\">\n",
              "    <path d=\"M0 0h24v24H0V0z\" fill=\"none\"/>\n",
              "    <path d=\"M18.56 5.44l.94 2.06.94-2.06 2.06-.94-2.06-.94-.94-2.06-.94 2.06-2.06.94zm-11 1L8.5 8.5l.94-2.06 2.06-.94-2.06-.94L8.5 2.5l-.94 2.06-2.06.94zm10 10l.94 2.06.94-2.06 2.06-.94-2.06-.94-.94-2.06-.94 2.06-2.06.94z\"/><path d=\"M17.41 7.96l-1.37-1.37c-.4-.4-.92-.59-1.43-.59-.52 0-1.04.2-1.43.59L10.3 9.45l-7.72 7.72c-.78.78-.78 2.05 0 2.83L4 21.41c.39.39.9.59 1.41.59.51 0 1.02-.2 1.41-.59l7.78-7.78 2.81-2.81c.8-.78.8-2.07 0-2.86zM5.41 20L4 18.59l7.72-7.72 1.47 1.35L5.41 20z\"/>\n",
              "  </svg>\n",
              "      </button>\n",
              "      \n",
              "  <style>\n",
              "    .colab-df-container {\n",
              "      display:flex;\n",
              "      flex-wrap:wrap;\n",
              "      gap: 12px;\n",
              "    }\n",
              "\n",
              "    .colab-df-convert {\n",
              "      background-color: #E8F0FE;\n",
              "      border: none;\n",
              "      border-radius: 50%;\n",
              "      cursor: pointer;\n",
              "      display: none;\n",
              "      fill: #1967D2;\n",
              "      height: 32px;\n",
              "      padding: 0 0 0 0;\n",
              "      width: 32px;\n",
              "    }\n",
              "\n",
              "    .colab-df-convert:hover {\n",
              "      background-color: #E2EBFA;\n",
              "      box-shadow: 0px 1px 2px rgba(60, 64, 67, 0.3), 0px 1px 3px 1px rgba(60, 64, 67, 0.15);\n",
              "      fill: #174EA6;\n",
              "    }\n",
              "\n",
              "    [theme=dark] .colab-df-convert {\n",
              "      background-color: #3B4455;\n",
              "      fill: #D2E3FC;\n",
              "    }\n",
              "\n",
              "    [theme=dark] .colab-df-convert:hover {\n",
              "      background-color: #434B5C;\n",
              "      box-shadow: 0px 1px 3px 1px rgba(0, 0, 0, 0.15);\n",
              "      filter: drop-shadow(0px 1px 2px rgba(0, 0, 0, 0.3));\n",
              "      fill: #FFFFFF;\n",
              "    }\n",
              "  </style>\n",
              "\n",
              "      <script>\n",
              "        const buttonEl =\n",
              "          document.querySelector('#df-5cfb3645-a5f8-4a67-bdcb-3faca1225a60 button.colab-df-convert');\n",
              "        buttonEl.style.display =\n",
              "          google.colab.kernel.accessAllowed ? 'block' : 'none';\n",
              "\n",
              "        async function convertToInteractive(key) {\n",
              "          const element = document.querySelector('#df-5cfb3645-a5f8-4a67-bdcb-3faca1225a60');\n",
              "          const dataTable =\n",
              "            await google.colab.kernel.invokeFunction('convertToInteractive',\n",
              "                                                     [key], {});\n",
              "          if (!dataTable) return;\n",
              "\n",
              "          const docLinkHtml = 'Like what you see? Visit the ' +\n",
              "            '<a target=\"_blank\" href=https://colab.research.google.com/notebooks/data_table.ipynb>data table notebook</a>'\n",
              "            + ' to learn more about interactive tables.';\n",
              "          element.innerHTML = '';\n",
              "          dataTable['output_type'] = 'display_data';\n",
              "          await google.colab.output.renderOutput(dataTable, element);\n",
              "          const docLink = document.createElement('div');\n",
              "          docLink.innerHTML = docLinkHtml;\n",
              "          element.appendChild(docLink);\n",
              "        }\n",
              "      </script>\n",
              "    </div>\n",
              "  </div>\n",
              "  "
            ]
          },
          "metadata": {},
          "execution_count": 36
        }
      ]
    },
    {
      "cell_type": "code",
      "source": [
        "#성능 평가하기\n",
        "# confusion matrix만들기\n",
        "\n",
        "from sklearn.metrics import confusion_matrix\n",
        "conf_mat = confusion_matrix(y_true = df_test['income'], #실제값\n",
        "                            y_pred = df_test['pred'], #예측값\n",
        "                            labels = ['high', 'low']) #클래스 배치 순서\n",
        "\n",
        "conf_mat"
      ],
      "metadata": {
        "colab": {
          "base_uri": "https://localhost:8080/"
        },
        "id": "d9d6LK3AHuXm",
        "outputId": "173d711e-cf42-4cc7-b1e4-060376f387e9"
      },
      "execution_count": null,
      "outputs": [
        {
          "output_type": "execute_result",
          "data": {
            "text/plain": [
              "array([[ 1801,  1705],\n",
              "       [  582, 10565]])"
            ]
          },
          "metadata": {},
          "execution_count": 38
        }
      ]
    },
    {
      "cell_type": "code",
      "source": [
        "plt.rcParams.update(plt.rcParamsDefault) # 그래픽 설정 되돌리기"
      ],
      "metadata": {
        "id": "gJP1uxf7IT7f"
      },
      "execution_count": null,
      "outputs": []
    },
    {
      "cell_type": "code",
      "source": [
        "from sklearn.metrics import ConfusionMatrixDisplay\n",
        "p = ConfusionMatrixDisplay(confusion_matrix = conf_mat, #컨퓨전 매트릭스\n",
        "                           display_labels = ('high', 'low')) #타겟 변수 클래스명\n",
        "\n",
        "p.plot(cmap = 'Blues') #컬러맵 적용해 출력"
      ],
      "metadata": {
        "colab": {
          "base_uri": "https://localhost:8080/",
          "height": 467
        },
        "id": "XkLx1qBLIhT_",
        "outputId": "48c9675a-b4ea-4970-d30f-6d403f5f21df"
      },
      "execution_count": null,
      "outputs": [
        {
          "output_type": "execute_result",
          "data": {
            "text/plain": [
              "<sklearn.metrics._plot.confusion_matrix.ConfusionMatrixDisplay at 0x7f74385ea370>"
            ]
          },
          "metadata": {},
          "execution_count": 42
        },
        {
          "output_type": "display_data",
          "data": {
            "text/plain": [
              "<Figure size 640x480 with 2 Axes>"
            ],
            "image/png": "[encoded data removed]"
          },
          "metadata": {}
        }
      ]
    },
    {
      "cell_type": "code",
      "source": [
        "import sklearn.metrics as metrics\n",
        "metrics.accuracy_score(y_true = df_test['income'], #실제값\n",
        "                       y_pred = df_test['pred']) #예측값"
      ],
      "metadata": {
        "colab": {
          "base_uri": "https://localhost:8080/"
        },
        "id": "mktFbtxNIxLg",
        "outputId": "e1ef0c15-9bb9-4009-bc2b-938bbed86bef"
      },
      "execution_count": null,
      "outputs": [
        {
          "output_type": "execute_result",
          "data": {
            "text/plain": [
              "0.8439227461953184"
            ]
          },
          "metadata": {},
          "execution_count": 45
        }
      ]
    },
    {
      "cell_type": "code",
      "source": [
        "#정밀도: 관심 클래스를 예측해서 맞춘 비율\n",
        "metrics.precision_score(y_true = df_test['income'],\n",
        "                        y_pred = df_test['pred'],\n",
        "                        pos_label = 'high')"
      ],
      "metadata": {
        "colab": {
          "base_uri": "https://localhost:8080/"
        },
        "id": "7wL9RYmPJb4u",
        "outputId": "8aa6b3da-f4a3-4b23-a456-c19c26b68dea"
      },
      "execution_count": null,
      "outputs": [
        {
          "output_type": "execute_result",
          "data": {
            "text/plain": [
              "0.7557700377675199"
            ]
          },
          "metadata": {},
          "execution_count": 46
        }
      ]
    },
    {
      "cell_type": "code",
      "source": [
        "#재현율: 실제 데이터에서 관심 클래스를 찾아낸 비율\n",
        "metrics.recall_score(y_true = df_test['income'],\n",
        "                     y_pred = df_test['pred'],\n",
        "                     pos_label = 'high')"
      ],
      "metadata": {
        "colab": {
          "base_uri": "https://localhost:8080/"
        },
        "id": "8QHpnWdrMBCM",
        "outputId": "f6702886-f6c5-4d2c-e3aa-561a72fefd08"
      },
      "execution_count": null,
      "outputs": [
        {
          "output_type": "execute_result",
          "data": {
            "text/plain": [
              "0.5136908157444381"
            ]
          },
          "metadata": {},
          "execution_count": 49
        }
      ]
    },
    {
      "cell_type": "code",
      "source": [
        "#f1 score : 정밀도와 재현율의 조화평균으로, 0~1사이의 값을 지니며 성능이 높을수록 1에 가까운 값이 된다.\n",
        "metrics.f1_score(y_true = df_test['income'],\n",
        "                 y_pred = df_test['pred'],\n",
        "                 pos_label = 'high')"
      ],
      "metadata": {
        "colab": {
          "base_uri": "https://localhost:8080/"
        },
        "id": "mwy85UryMXPg",
        "outputId": "82a1644d-7b8c-45cc-e682-52fcba0c3eb5"
      },
      "execution_count": null,
      "outputs": [
        {
          "output_type": "execute_result",
          "data": {
            "text/plain": [
              "0.6116488368143997"
            ]
          },
          "metadata": {},
          "execution_count": 50
        }
      ]
    },
    {
      "cell_type": "code",
      "source": [],
      "metadata": {
        "id": "42hLYMJ1NPDJ"
      },
      "execution_count": null,
      "outputs": []
    }
  ]
}